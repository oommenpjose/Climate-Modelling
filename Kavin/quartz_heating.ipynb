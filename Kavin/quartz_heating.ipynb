{
 "cells": [
  {
   "cell_type": "code",
   "execution_count": 293,
   "id": "ee2294fa",
   "metadata": {},
   "outputs": [],
   "source": [
    "import numpy as np\n",
    "import matplotlib.pyplot as plt\n",
    "from matplotlib import animation\n",
    "from mpl_toolkits.mplot3d import Axes3D\n",
    "from matplotlib.animation import PillowWriter\n",
    "from matplotlib import cm\n",
    "from skimage import color\n",
    "from skimage import io\n",
    "import numba\n",
    "from numba import jit"
   ]
  },
  {
   "cell_type": "code",
   "execution_count": 294,
   "id": "52252abd",
   "metadata": {},
   "outputs": [],
   "source": [
    "edge = np.linspace(0, 1, 100)\n",
    "xv, yv = np.meshgrid(edge, edge)"
   ]
  },
  {
   "cell_type": "code",
   "execution_count": 295,
   "id": "2f029ffb",
   "metadata": {},
   "outputs": [
    {
     "name": "stderr",
     "output_type": "stream",
     "text": [
      "/var/folders/gy/tmq5jzf548s8qn2v9c_qy52c0000gn/T/ipykernel_60232/3966780338.py:1: FutureWarning: Non RGB image conversion is now deprecated. For RGBA images, please use rgb2gray(rgba2rgb(rgb)) instead. In version 0.19, a ValueError will be raised if input image last dimension length is not 3.\n",
      "  img = color.rgb2gray(io.imread('../../Desktop/d.png'))\n"
     ]
    }
   ],
   "source": [
    "img = color.rgb2gray(io.imread('../../Desktop/d.png'))\n",
    "img = np.flip(img, axis=0)"
   ]
  },
  {
   "cell_type": "code",
   "execution_count": 296,
   "id": "c9a4542a",
   "metadata": {},
   "outputs": [
    {
     "data": {
      "text/plain": [
       "<matplotlib.contour.QuadContourSet at 0x7f89a162c520>"
      ]
     },
     "execution_count": 296,
     "metadata": {},
     "output_type": "execute_result"
    },
    {
     "data": {
      "image/png": "[encoded data removed]",
      "text/plain": [
       "<Figure size 432x288 with 1 Axes>"
      ]
     },
     "metadata": {
      "needs_background": "light"
     },
     "output_type": "display_data"
    }
   ],
   "source": [
    "plt.contourf(img)"
   ]
  },
  {
   "cell_type": "code",
   "execution_count": 297,
   "id": "005d2a66",
   "metadata": {},
   "outputs": [],
   "source": [
    "materialey_bool = img<0.9"
   ]
  },
  {
   "cell_type": "code",
   "execution_count": 298,
   "id": "ba94feea",
   "metadata": {},
   "outputs": [
    {
     "data": {
      "text/plain": [
       "array([[False, False, False, ..., False, False, False],\n",
       "       [False, False, False, ..., False, False, False],\n",
       "       [False, False, False, ..., False, False, False],\n",
       "       ...,\n",
       "       [False, False, False, ..., False, False, False],\n",
       "       [False, False, False, ..., False, False, False],\n",
       "       [False, False, False, ..., False, False, False]])"
      ]
     },
     "execution_count": 298,
     "metadata": {},
     "output_type": "execute_result"
    }
   ],
   "source": [
    "materialey_bool"
   ]
  },
  {
   "cell_type": "code",
   "execution_count": 299,
   "id": "38f8fd55",
   "metadata": {},
   "outputs": [],
   "source": [
    "a_material = 1.4e-7  #Quartz"
   ]
  },
  {
   "cell_type": "code",
   "execution_count": 300,
   "id": "245d3d14",
   "metadata": {},
   "outputs": [],
   "source": [
    "rawmaterial_temp = 273 + 30\n",
    "oven_temp = 273 + 200"
   ]
  },
  {
   "cell_type": "code",
   "execution_count": 301,
   "id": "3717b6c1",
   "metadata": {},
   "outputs": [],
   "source": [
    "init_heat = np.zeros([100,100]) + oven_temp\n",
    "init_heat[materialey_bool] = rawmaterial_temp"
   ]
  },
  {
   "cell_type": "code",
   "execution_count": 302,
   "id": "79d23768",
   "metadata": {},
   "outputs": [
    {
     "data": {
      "text/plain": [
       "<matplotlib.contour.QuadContourSet at 0x7f8a31d00b80>"
      ]
     },
     "execution_count": 302,
     "metadata": {},
     "output_type": "execute_result"
    },
    {
     "data": {
      "image/png": "[encoded data removed]",
      "text/plain": [
       "<Figure size 432x288 with 1 Axes>"
      ]
     },
     "metadata": {
      "needs_background": "light"
     },
     "output_type": "display_data"
    }
   ],
   "source": [
    "plt.contourf(init_heat)"
   ]
  },
  {
   "cell_type": "code",
   "execution_count": 303,
   "id": "ca2fd135",
   "metadata": {},
   "outputs": [],
   "source": [
    "times = 36000\n",
    "times_snapshot = 3600\n",
    "f = int(times/times_snapshot)\n",
    "heat_frames = np.zeros([times_snapshot, 100, 100])\n",
    "heat_frames[0] = init_heat"
   ]
  },
  {
   "cell_type": "code",
   "execution_count": 304,
   "id": "a00157b0",
   "metadata": {},
   "outputs": [
    {
     "data": {
      "text/plain": [
       "10"
      ]
     },
     "execution_count": 304,
     "metadata": {},
     "output_type": "execute_result"
    }
   ],
   "source": [
    "f"
   ]
  },
  {
   "cell_type": "code",
   "execution_count": 305,
   "id": "759e0dd7",
   "metadata": {},
   "outputs": [],
   "source": [
    "x = 0.5\n",
    "dx = 0.5/100\n",
    "dt = 1"
   ]
  },
  {
   "cell_type": "code",
   "execution_count": 306,
   "id": "a6f055b6",
   "metadata": {},
   "outputs": [
    {
     "data": {
      "text/plain": [
       "0.0056"
      ]
     },
     "execution_count": 306,
     "metadata": {},
     "output_type": "execute_result"
    }
   ],
   "source": [
    "a_material * dt / dx**2"
   ]
  },
  {
   "cell_type": "code",
   "execution_count": 307,
   "id": "c0be9d34",
   "metadata": {},
   "outputs": [],
   "source": [
    "@numba.jit(\"f8[:,:,:](f8[:,:,:], b1[:,:])\", nopython=True, nogil=True)\n",
    "def solve_heat(heatmap, is_materialey):\n",
    "    cs = heatmap[0].copy() #current state\n",
    "    length = len(cs[0])\n",
    "    cf = 0 # current frame\n",
    "    for t in range(1,times):\n",
    "        ns = cs.copy() # new state\n",
    "        for i in range(1, length-1):\n",
    "            for j in range(1, length-1):\n",
    "                if is_materialey[j][i]:\n",
    "                    a = a_material\n",
    "                    ns[j][i] = cs[j][i] + a*dt/dx**2 * (cs[j+1][i] + cs[j-1][i] +\\\n",
    "                                                    cs[j][i+1] + cs[j][i-1] -\\\n",
    "                                                    4*cs[j][i])\n",
    "        cs = ns.copy()\n",
    "        if t%f==0:\n",
    "            cf = cf + 1\n",
    "            heatmap[cf] = cs\n",
    "            \n",
    "    return heatmap"
   ]
  },
  {
   "cell_type": "code",
   "execution_count": 308,
   "id": "1fe150f1",
   "metadata": {},
   "outputs": [],
   "source": [
    "heat_frames = solve_heat(heat_frames, materialey_bool)"
   ]
  },
  {
   "cell_type": "code",
   "execution_count": 309,
   "id": "711e9a94",
   "metadata": {},
   "outputs": [],
   "source": [
    "heat_frames -= 273.15"
   ]
  },
  {
   "cell_type": "code",
   "execution_count": 310,
   "id": "00987fb1",
   "metadata": {},
   "outputs": [
    {
     "data": {
      "text/plain": [
       "<matplotlib.colorbar.Colorbar at 0x7f89a0b5fdf0>"
      ]
     },
     "execution_count": 310,
     "metadata": {},
     "output_type": "execute_result"
    },
    {
     "data": {
      "image/png": "[encoded data removed]",
      "text/plain": [
       "<Figure size 576x576 with 2 Axes>"
      ]
     },
     "metadata": {
      "needs_background": "light"
     },
     "output_type": "display_data"
    }
   ],
   "source": [
    "my_cmap = plt.get_cmap('inferno')\n",
    "plt.figure(figsize=(8,8))\n",
    "a = plt.contourf(heat_frames[1000], 100, cmap=my_cmap, vmin=rawmaterial_temp-273, vmax=oven_temp-273)\n",
    "plt.colorbar(a)"
   ]
  },
  {
   "cell_type": "code",
   "execution_count": 315,
   "id": "2be34d3b",
   "metadata": {},
   "outputs": [
    {
     "data": {
      "image/png": "[encoded data removed]",
      "text/plain": [
       "<Figure size 576x432 with 1 Axes>"
      ]
     },
     "metadata": {
      "needs_background": "light"
     },
     "output_type": "display_data"
    }
   ],
   "source": [
    "def animate(i):\n",
    "    ax.clear()\n",
    "    ax.contourf(heat_frames[10*i], 100, cmap=my_cmap, vmin=rawmaterial_temp-273, vmax = oven_temp-273)\n",
    "\n",
    "    return fig,\n",
    "\n",
    "fig, ax = plt.subplots(figsize=(8,6))\n",
    "ani = animation.FuncAnimation(fig, animate,\n",
    "                               frames=359, interval=50)\n",
    "ani.save('heated_quartz.gif',writer='pillow',fps=30)"
   ]
  },
  {
   "cell_type": "code",
   "execution_count": 316,
   "id": "e1c3b93c",
   "metadata": {},
   "outputs": [],
   "source": [
    "t = np.linspace(0, 10, len(heat_frames))"
   ]
  },
  {
   "cell_type": "code",
   "execution_count": 317,
   "id": "4d9c0216",
   "metadata": {},
   "outputs": [],
   "source": [
    "avg_temp = np.array([heat_frame[materialey_bool].mean() for heat_frame in heat_frames]) \n",
    "min_temp = np.array([heat_frame[materialey_bool].min() for heat_frame in heat_frames]) \n",
    "std_temp = np.array([heat_frame[materialey_bool].std() for heat_frame in heat_frames]) "
   ]
  },
  {
   "cell_type": "code",
   "execution_count": 314,
   "id": "e8cf713b",
   "metadata": {},
   "outputs": [
    {
     "data": {
      "image/png": "[encoded data removed]",
      "text/plain": [
       "<Figure size 432x288 with 1 Axes>"
      ]
     },
     "metadata": {
      "needs_background": "light"
     },
     "output_type": "display_data"
    }
   ],
   "source": [
    "plt.plot(t, avg_temp, label='average')\n",
    "plt.plot(t, min_temp, label='average')\n",
    "plt.xlabel('Time[hours]')\n",
    "plt.ylabel('Temp [$^\\circ C$]')\n",
    "plt.grid()"
   ]
  }
 ],
 "metadata": {
  "kernelspec": {
   "display_name": "Python 3 (ipykernel)",
   "language": "python",
   "name": "python3"
  },
  "language_info": {
   "codemirror_mode": {
    "name": "ipython",
    "version": 3
   },
   "file_extension": ".py",
   "mimetype": "text/x-python",
   "name": "python",
   "nbconvert_exporter": "python",
   "pygments_lexer": "ipython3",
   "version": "3.9.7"
  }
 },
 "nbformat": 4,
 "nbformat_minor": 5
}

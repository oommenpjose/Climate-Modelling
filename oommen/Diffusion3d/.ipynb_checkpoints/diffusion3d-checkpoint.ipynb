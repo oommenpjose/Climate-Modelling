{
 "cells": [
  {
   "cell_type": "code",
   "execution_count": 1,
   "metadata": {},
   "outputs": [],
   "source": [
    "import math\n",
    "import numpy as np\n",
    "import csv\n",
    "def compute(un,sx,sy,sz):\n",
    "    un2=[]\n",
    "    for i in range(len(un)):\n",
    "        r=[]\n",
    "        for j in range(len(un[i])):\n",
    "            s=[]\n",
    "            for k in range(len(un[i][j])):\n",
    "                if i==0 or i==len(un)-1 or j==0 or j==len(un[i])-1 or k==0 or k==len(un[i][j])-1:\n",
    "                    e=(1-2*sx-2*sy-2*sz)*un[i][j][k]\n",
    "                    e = e+sx*(un[i][j][k]) if i==0 else e+sx*(un[i-1][j][k])\n",
    "                    e = e+sx*(un[i][j][k]) if i==len(un)-1 else e+sx*(un[i+1][j][k])\n",
    "                    e = e+sy*(un[i][j][k]) if j==0 else e+sy*(un[i][j-1][k])\n",
    "                    e = e+sy*(un[i][j][k]) if j==len(un[i])-1 else e+sy*(un[i][j+1][k])\n",
    "                    e = e+sz*(un[i][j][k]) if k==0 else e+sz*(un[i][j][k-1])\n",
    "                    e = e+sz*(un[i][j][k]) if k==len(un[i][j])-1 else e+sz*(un[i][j][k+1])\n",
    "                    s.append(e)\n",
    "                    e=0\n",
    "\n",
    "                else:\n",
    "                    s.append((1-2*sx-2*sy-2*sz)*un[i][j][k]+sx*(un[i+1][j][k]+un[i-1][j][k])+sy*(un[i][j+1][k]+un[i][j-1][k])+sz*(un[i][j][k+1]+un[i][j][k-1]))\n",
    "            r.append(s)\n",
    "        un2.append(r)\n",
    "    return(un2)\n",
    "\n",
    "def f_initial(x,y,z):\n",
    "    return math.sin(x)+math.sin(y)+math.sin(z)\n",
    "def diffusion3d(n,m,x0,xa,y0,ya,z0,za,t,k):\n",
    "    dx=(xa-x0)/n\n",
    "    dy=(ya-y0)/n\n",
    "    dz=(za-z0)/n\n",
    "    dt=t/m\n",
    "    sx=k*dt/(dx**2)\n",
    "    sy=k*dt/(dy**2)\n",
    "    sz=k*dt/(dz**2)\n",
    "    p=[list(np.arange(x0,xa,dx)),list(np.arange(y0,ya,dy)),list(np.arange(z0,za,dz))]\n",
    "    ui=[]\n",
    "    for i in p[0]:\n",
    "        r=[]\n",
    "        for j in p[1]:\n",
    "            s = [f_initial(i,j,k) for k in p[2]]\n",
    "            r.append(s)\n",
    "        ui.append(r)\n",
    "    final = [ui]\n",
    "    final.extend(compute(final[i],sx,sy,sz) for i in range(m))\n",
    "    return(final)\n",
    "final=diffusion3d(10,200,0,2*np.pi,0,2*np.pi,0,2*np.pi,250,0.041)\n"
   ]
  },
  {
   "cell_type": "code",
   "execution_count": 2,
   "metadata": {},
   "outputs": [],
   "source": [
    "trial=[]\n",
    "for m in final:\n",
    "    x=[]\n",
    "    y=[]\n",
    "    z=[]\n",
    "    t=[]\n",
    "    for i in range(len(m)):\n",
    "        for j in range(len(m[i])):\n",
    "            for k in range(len(m[i][j])):\n",
    "                x.append(i)\n",
    "                y.append(j)\n",
    "                z.append(k)\n",
    "                t.append(m[i][j][k])\n",
    "    trial.append([x,y,z,t])\n"
   ]
  },
  {
   "cell_type": "code",
   "execution_count": 3,
   "metadata": {},
   "outputs": [],
   "source": [
    "\n",
    "from mpl_toolkits.mplot3d import Axes3D\n",
    "import matplotlib.pyplot as plt\n",
    "def plotter(t=0):\n",
    "    fig=plt.figure(figsize=(10,15))\n",
    "    ax=fig.add_subplot(111,projection='3d')\n",
    "    x=trial[t][0]\n",
    "    y=trial[t][1]\n",
    "    z=trial[t][2]\n",
    "    c=trial[t][3]\n",
    "    surf=ax.scatter(x,y,z,c=c,cmap=plt.hot(), vmin=-1.5, vmax=1.5)\n",
    "    fig.colorbar(surf)\n",
    "    plt.show()\n"
   ]
  },
  {
   "cell_type": "code",
   "execution_count": 4,
   "metadata": {},
   "outputs": [
    {
     "data": {
      "application/vnd.jupyter.widget-view+json": {
       "model_id": "436fd887716e4bb4857f039a7ff53932",
       "version_major": 2,
       "version_minor": 0
      },
      "text/plain": [
       "interactive(children=(Play(value=0, description='t', max=200), Output()), _dom_classes=('widget-interact',))"
      ]
     },
     "metadata": {},
     "output_type": "display_data"
    },
    {
     "data": {
      "text/plain": [
       "<function __main__.plotter(t=0)>"
      ]
     },
     "execution_count": 4,
     "metadata": {},
     "output_type": "execute_result"
    }
   ],
   "source": [
    "import ipywidgets as widgets\n",
    "widgets.interact(plotter, t=widgets.Play(min=0,max=200))"
   ]
  }
 ],
 "metadata": {
  "kernelspec": {
   "display_name": "Python 3 (ipykernel)",
   "language": "python",
   "name": "python3"
  },
  "language_info": {
   "codemirror_mode": {
    "name": "ipython",
    "version": 3
   },
   "file_extension": ".py",
   "mimetype": "text/x-python",
   "name": "python",
   "nbconvert_exporter": "python",
   "pygments_lexer": "ipython3",
   "version": "3.9.12"
  },
  "vscode": {
   "interpreter": {
    "hash": "f9359950c0d9256b04be5460d69bc9263f54936df9dbef07f7d9602d734fea0a"
   }
  }
 },
 "nbformat": 4,
 "nbformat_minor": 2
}
